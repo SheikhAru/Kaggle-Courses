{
 "cells": [
  {
   "cell_type": "markdown",
   "id": "a5353055",
   "metadata": {
    "papermill": {
     "duration": 0.005654,
     "end_time": "2022-06-24T15:57:24.283900",
     "exception": false,
     "start_time": "2022-06-24T15:57:24.278246",
     "status": "completed"
    },
    "tags": []
   },
   "source": [
    "**This notebook is an exercise in the [Python](https://www.kaggle.com/learn/python) course.  You can reference the tutorial at [this link](https://www.kaggle.com/colinmorris/loops-and-list-comprehensions).**\n",
    "\n",
    "---\n"
   ]
  },
  {
   "cell_type": "markdown",
   "id": "953e0636",
   "metadata": {
    "papermill": {
     "duration": 0.004188,
     "end_time": "2022-06-24T15:57:24.292697",
     "exception": false,
     "start_time": "2022-06-24T15:57:24.288509",
     "status": "completed"
    },
    "tags": []
   },
   "source": [
    "With all you've learned, you can start writing much more interesting programs. See if you can solve the problems below.\n",
    "\n",
    "As always, run the setup code below before working on the questions."
   ]
  },
  {
   "cell_type": "code",
   "execution_count": 1,
   "id": "134f69ff",
   "metadata": {
    "execution": {
     "iopub.execute_input": "2022-06-24T15:57:24.304209Z",
     "iopub.status.busy": "2022-06-24T15:57:24.303786Z",
     "iopub.status.idle": "2022-06-24T15:57:24.362140Z",
     "shell.execute_reply": "2022-06-24T15:57:24.360797Z"
    },
    "papermill": {
     "duration": 0.067047,
     "end_time": "2022-06-24T15:57:24.364723",
     "exception": false,
     "start_time": "2022-06-24T15:57:24.297676",
     "status": "completed"
    },
    "tags": []
   },
   "outputs": [
    {
     "name": "stdout",
     "output_type": "stream",
     "text": [
      "Setup complete.\n"
     ]
    }
   ],
   "source": [
    "from learntools.core import binder; binder.bind(globals())\n",
    "from learntools.python.ex5 import *\n",
    "print('Setup complete.')"
   ]
  },
  {
   "cell_type": "markdown",
   "id": "cea6a60f",
   "metadata": {
    "papermill": {
     "duration": 0.004333,
     "end_time": "2022-06-24T15:57:24.373863",
     "exception": false,
     "start_time": "2022-06-24T15:57:24.369530",
     "status": "completed"
    },
    "tags": []
   },
   "source": [
    "# 1.\n",
    "\n",
    "Have you ever felt debugging involved a bit of luck? The following program has a bug. Try to identify the bug and fix it."
   ]
  },
  {
   "cell_type": "code",
   "execution_count": 2,
   "id": "089eaa4b",
   "metadata": {
    "execution": {
     "iopub.execute_input": "2022-06-24T15:57:24.384507Z",
     "iopub.status.busy": "2022-06-24T15:57:24.383932Z",
     "iopub.status.idle": "2022-06-24T15:57:24.389273Z",
     "shell.execute_reply": "2022-06-24T15:57:24.388193Z"
    },
    "papermill": {
     "duration": 0.013153,
     "end_time": "2022-06-24T15:57:24.391434",
     "exception": false,
     "start_time": "2022-06-24T15:57:24.378281",
     "status": "completed"
    },
    "tags": []
   },
   "outputs": [],
   "source": [
    "def has_lucky_number(nums):\n",
    "    \"\"\"Return whether the given list of numbers is lucky. A lucky list contains\n",
    "    at least one number divisible by 7.\n",
    "    \"\"\"\n",
    "    for num in nums:\n",
    "        if num % 7 == 0:\n",
    "            return True\n",
    "        else:\n",
    "            return False"
   ]
  },
  {
   "cell_type": "markdown",
   "id": "fc88947f",
   "metadata": {
    "papermill": {
     "duration": 0.004724,
     "end_time": "2022-06-24T15:57:24.400865",
     "exception": false,
     "start_time": "2022-06-24T15:57:24.396141",
     "status": "completed"
    },
    "tags": []
   },
   "source": [
    "Try to identify the bug and fix it in the cell below:"
   ]
  },
  {
   "cell_type": "code",
   "execution_count": 3,
   "id": "acacf8ea",
   "metadata": {
    "execution": {
     "iopub.execute_input": "2022-06-24T15:57:24.411520Z",
     "iopub.status.busy": "2022-06-24T15:57:24.411161Z",
     "iopub.status.idle": "2022-06-24T15:57:24.422142Z",
     "shell.execute_reply": "2022-06-24T15:57:24.421350Z"
    },
    "papermill": {
     "duration": 0.018633,
     "end_time": "2022-06-24T15:57:24.423942",
     "exception": false,
     "start_time": "2022-06-24T15:57:24.405309",
     "status": "completed"
    },
    "tags": []
   },
   "outputs": [
    {
     "data": {
      "application/javascript": [
       "parent.postMessage({\"jupyterEvent\": \"custom.exercise_interaction\", \"data\": {\"outcomeType\": 1, \"valueTowardsCompletion\": 0.25, \"interactionType\": 1, \"questionType\": 2, \"questionId\": \"1_EarlyExitDebugging\", \"learnToolsVersion\": \"0.3.4\", \"failureMessage\": \"\", \"exceptionClass\": \"\", \"trace\": \"\"}}, \"*\")"
      ],
      "text/plain": [
       "<IPython.core.display.Javascript object>"
      ]
     },
     "metadata": {},
     "output_type": "display_data"
    },
    {
     "data": {
      "text/markdown": [
       "<span style=\"color:#33cc33\">Correct:</span> \n",
       "\n",
       "Remember that `return` causes a function to exit immediately. So our original implementation always ran for just one iteration. We can only return `False` if we've looked at every element of the list (and confirmed that none of them are lucky). Though we can return early if the answer is `True`:\n",
       "\n",
       "```python\n",
       "def has_lucky_number(nums):\n",
       "    for num in nums:\n",
       "        if num % 7 == 0:\n",
       "            return True\n",
       "    # We've exhausted the list without finding a lucky number\n",
       "    return False\n",
       "```\n",
       "\n",
       "Here's a one-line version using a list comprehension with Python's `any` function (you can read about what it does by calling `help(any)`):\n",
       "\n",
       "```python\n",
       "def has_lucky_number(nums):\n",
       "    return any([num % 7 == 0 for num in nums])\n",
       "```\n"
      ],
      "text/plain": [
       "Correct: \n",
       "\n",
       "Remember that `return` causes a function to exit immediately. So our original implementation always ran for just one iteration. We can only return `False` if we've looked at every element of the list (and confirmed that none of them are lucky). Though we can return early if the answer is `True`:\n",
       "\n",
       "```python\n",
       "def has_lucky_number(nums):\n",
       "    for num in nums:\n",
       "        if num % 7 == 0:\n",
       "            return True\n",
       "    # We've exhausted the list without finding a lucky number\n",
       "    return False\n",
       "```\n",
       "\n",
       "Here's a one-line version using a list comprehension with Python's `any` function (you can read about what it does by calling `help(any)`):\n",
       "\n",
       "```python\n",
       "def has_lucky_number(nums):\n",
       "    return any([num % 7 == 0 for num in nums])\n",
       "```"
      ]
     },
     "metadata": {},
     "output_type": "display_data"
    }
   ],
   "source": [
    "def has_lucky_number(nums):\n",
    "    \"\"\"Return whether the given list of numbers is lucky. A lucky list contains\n",
    "    at least one number divisible by 7.\n",
    "    \"\"\"\n",
    "    for num in nums:\n",
    "        if num % 7 == 0:\n",
    "            return True\n",
    "    return False\n",
    "#help(any)\n",
    "#return any([num % 7 == 0 for num in nums])\n",
    "\n",
    "# Check your answer\n",
    "q1.check()"
   ]
  },
  {
   "cell_type": "code",
   "execution_count": 4,
   "id": "2a8e1c81",
   "metadata": {
    "execution": {
     "iopub.execute_input": "2022-06-24T15:57:24.435434Z",
     "iopub.status.busy": "2022-06-24T15:57:24.434386Z",
     "iopub.status.idle": "2022-06-24T15:57:24.438449Z",
     "shell.execute_reply": "2022-06-24T15:57:24.437717Z"
    },
    "papermill": {
     "duration": 0.011475,
     "end_time": "2022-06-24T15:57:24.440134",
     "exception": false,
     "start_time": "2022-06-24T15:57:24.428659",
     "status": "completed"
    },
    "tags": []
   },
   "outputs": [],
   "source": [
    "#q1.hint()\n",
    "#q1.solution()"
   ]
  },
  {
   "cell_type": "markdown",
   "id": "bf98b780",
   "metadata": {
    "papermill": {
     "duration": 0.004438,
     "end_time": "2022-06-24T15:57:24.449339",
     "exception": false,
     "start_time": "2022-06-24T15:57:24.444901",
     "status": "completed"
    },
    "tags": []
   },
   "source": [
    "# 2.\n",
    "Look at the Python expression below. What do you think we'll get when we run it? When you've made your prediction, uncomment the code and run the cell to see if you were right."
   ]
  },
  {
   "cell_type": "code",
   "execution_count": 5,
   "id": "f42d53de",
   "metadata": {
    "execution": {
     "iopub.execute_input": "2022-06-24T15:57:24.460604Z",
     "iopub.status.busy": "2022-06-24T15:57:24.459861Z",
     "iopub.status.idle": "2022-06-24T15:57:24.464163Z",
     "shell.execute_reply": "2022-06-24T15:57:24.463300Z"
    },
    "papermill": {
     "duration": 0.011824,
     "end_time": "2022-06-24T15:57:24.465893",
     "exception": false,
     "start_time": "2022-06-24T15:57:24.454069",
     "status": "completed"
    },
    "tags": []
   },
   "outputs": [],
   "source": [
    "#[1, 2, 3, 4] > 2"
   ]
  },
  {
   "cell_type": "markdown",
   "id": "db7ca73c",
   "metadata": {
    "papermill": {
     "duration": 0.004481,
     "end_time": "2022-06-24T15:57:24.475107",
     "exception": false,
     "start_time": "2022-06-24T15:57:24.470626",
     "status": "completed"
    },
    "tags": []
   },
   "source": [
    "R and Python have some libraries (like numpy and pandas) compare each element of the list to 2 (i.e. do an 'element-wise' comparison) and give us a list of booleans like `[False, False, True, True]`. \n",
    "\n",
    "Implement a function that reproduces this behaviour, returning a list of booleans corresponding to whether the corresponding element is greater than n."
   ]
  },
  {
   "cell_type": "code",
   "execution_count": 6,
   "id": "cd0e3bcc",
   "metadata": {
    "execution": {
     "iopub.execute_input": "2022-06-24T15:57:24.486438Z",
     "iopub.status.busy": "2022-06-24T15:57:24.485649Z",
     "iopub.status.idle": "2022-06-24T15:57:24.493781Z",
     "shell.execute_reply": "2022-06-24T15:57:24.493028Z"
    },
    "papermill": {
     "duration": 0.015773,
     "end_time": "2022-06-24T15:57:24.495584",
     "exception": false,
     "start_time": "2022-06-24T15:57:24.479811",
     "status": "completed"
    },
    "tags": []
   },
   "outputs": [
    {
     "data": {
      "application/javascript": [
       "parent.postMessage({\"jupyterEvent\": \"custom.exercise_interaction\", \"data\": {\"outcomeType\": 1, \"valueTowardsCompletion\": 0.25, \"interactionType\": 1, \"questionType\": 2, \"questionId\": \"2_ElementWiseComparison\", \"learnToolsVersion\": \"0.3.4\", \"failureMessage\": \"\", \"exceptionClass\": \"\", \"trace\": \"\"}}, \"*\")"
      ],
      "text/plain": [
       "<IPython.core.display.Javascript object>"
      ]
     },
     "metadata": {},
     "output_type": "display_data"
    },
    {
     "data": {
      "text/markdown": [
       "<span style=\"color:#33cc33\">Correct:</span> \n",
       "\n",
       "Here's one solution:\n",
       "```python\n",
       "def elementwise_greater_than(L, thresh):\n",
       "    res = []\n",
       "    for ele in L:\n",
       "        res.append(ele > thresh)\n",
       "    return res\n",
       "```\n",
       "\n",
       "And here's the list comprehension version:\n",
       "```python\n",
       "def elementwise_greater_than(L, thresh):\n",
       "    return [ele > thresh for ele in L]\n",
       "```\n"
      ],
      "text/plain": [
       "Correct: \n",
       "\n",
       "Here's one solution:\n",
       "```python\n",
       "def elementwise_greater_than(L, thresh):\n",
       "    res = []\n",
       "    for ele in L:\n",
       "        res.append(ele > thresh)\n",
       "    return res\n",
       "```\n",
       "\n",
       "And here's the list comprehension version:\n",
       "```python\n",
       "def elementwise_greater_than(L, thresh):\n",
       "    return [ele > thresh for ele in L]\n",
       "```"
      ]
     },
     "metadata": {},
     "output_type": "display_data"
    }
   ],
   "source": [
    "def elementwise_greater_than(L, thresh):\n",
    "    \"\"\"Return a list with the same length as L, where the value at index i is \n",
    "    True if L[i] is greater than thresh, and False otherwise.\n",
    "    \n",
    "    >>> elementwise_greater_than([1, 2, 3, 4], 2)\n",
    "    [False, False, True, True]\n",
    "    \"\"\"\n",
    "    out = []\n",
    "    for i in L:\n",
    "        out.append(i > thresh)\n",
    "    return out\n",
    "#    return [i > thresh for i in L]\n",
    "# Check your answer\n",
    "q2.check()"
   ]
  },
  {
   "cell_type": "code",
   "execution_count": 7,
   "id": "7e7ca4f8",
   "metadata": {
    "execution": {
     "iopub.execute_input": "2022-06-24T15:57:24.507253Z",
     "iopub.status.busy": "2022-06-24T15:57:24.506575Z",
     "iopub.status.idle": "2022-06-24T15:57:24.510211Z",
     "shell.execute_reply": "2022-06-24T15:57:24.509446Z"
    },
    "papermill": {
     "duration": 0.011584,
     "end_time": "2022-06-24T15:57:24.512094",
     "exception": false,
     "start_time": "2022-06-24T15:57:24.500510",
     "status": "completed"
    },
    "tags": []
   },
   "outputs": [],
   "source": [
    "#q2.solution()"
   ]
  },
  {
   "cell_type": "markdown",
   "id": "d5faee37",
   "metadata": {
    "papermill": {
     "duration": 0.005061,
     "end_time": "2022-06-24T15:57:24.522161",
     "exception": false,
     "start_time": "2022-06-24T15:57:24.517100",
     "status": "completed"
    },
    "tags": []
   },
   "source": [
    "# 3.\n",
    "\n",
    "Complete the body of the function below according to its docstring."
   ]
  },
  {
   "cell_type": "code",
   "execution_count": 8,
   "id": "2801cfe7",
   "metadata": {
    "execution": {
     "iopub.execute_input": "2022-06-24T15:57:24.534414Z",
     "iopub.status.busy": "2022-06-24T15:57:24.533724Z",
     "iopub.status.idle": "2022-06-24T15:57:24.541357Z",
     "shell.execute_reply": "2022-06-24T15:57:24.540607Z"
    },
    "papermill": {
     "duration": 0.015935,
     "end_time": "2022-06-24T15:57:24.543318",
     "exception": false,
     "start_time": "2022-06-24T15:57:24.527383",
     "status": "completed"
    },
    "tags": []
   },
   "outputs": [
    {
     "data": {
      "application/javascript": [
       "parent.postMessage({\"jupyterEvent\": \"custom.exercise_interaction\", \"data\": {\"outcomeType\": 1, \"valueTowardsCompletion\": 0.25, \"interactionType\": 1, \"questionType\": 2, \"questionId\": \"3_BoringMenu\", \"learnToolsVersion\": \"0.3.4\", \"failureMessage\": \"\", \"exceptionClass\": \"\", \"trace\": \"\"}}, \"*\")"
      ],
      "text/plain": [
       "<IPython.core.display.Javascript object>"
      ]
     },
     "metadata": {},
     "output_type": "display_data"
    },
    {
     "data": {
      "text/markdown": [
       "<span style=\"color:#33cc33\">Correct:</span> \n",
       "\n",
       "\n",
       "\n",
       "```python\n",
       "def menu_is_boring(meals):\n",
       "    # Iterate over all indices of the list, except the last one\n",
       "    for i in range(len(meals)-1):\n",
       "        if meals[i] == meals[i+1]:\n",
       "            return True\n",
       "    return False\n",
       "```\n",
       "\n",
       "The key to our solution is the call to `range`. `range(len(meals))` would give us all the indices of `meals`. If we had used that range, the last iteration of the loop would be comparing the last element to the element after it, which is... `IndexError`! `range(len(meals)-1)` gives us all the indices except the index of the last element.\n",
       "\n",
       "But don't we need to check if `meals` is empty? Turns out that `range(0) == range(-1)` - they're both empty. So if `meals` has length 0 or 1, we just won't do any iterations of our for loop.\n"
      ],
      "text/plain": [
       "Correct: \n",
       "\n",
       "\n",
       "\n",
       "```python\n",
       "def menu_is_boring(meals):\n",
       "    # Iterate over all indices of the list, except the last one\n",
       "    for i in range(len(meals)-1):\n",
       "        if meals[i] == meals[i+1]:\n",
       "            return True\n",
       "    return False\n",
       "```\n",
       "\n",
       "The key to our solution is the call to `range`. `range(len(meals))` would give us all the indices of `meals`. If we had used that range, the last iteration of the loop would be comparing the last element to the element after it, which is... `IndexError`! `range(len(meals)-1)` gives us all the indices except the index of the last element.\n",
       "\n",
       "But don't we need to check if `meals` is empty? Turns out that `range(0) == range(-1)` - they're both empty. So if `meals` has length 0 or 1, we just won't do any iterations of our for loop."
      ]
     },
     "metadata": {},
     "output_type": "display_data"
    }
   ],
   "source": [
    "def menu_is_boring(meals):\n",
    "    \"\"\"Given a list of meals served over some period of time, return True if the\n",
    "    same meal has ever been served two days in a row, and False otherwise.\n",
    "    \"\"\"\n",
    "    for i in range(len(meals)-1):\n",
    "        if meals[i+1] == meals[i]:\n",
    "            return True\n",
    "    return False\n",
    "\n",
    "# Check your answer\n",
    "q3.check()"
   ]
  },
  {
   "cell_type": "code",
   "execution_count": 9,
   "id": "a146f42c",
   "metadata": {
    "execution": {
     "iopub.execute_input": "2022-06-24T15:57:24.556404Z",
     "iopub.status.busy": "2022-06-24T15:57:24.555718Z",
     "iopub.status.idle": "2022-06-24T15:57:24.559287Z",
     "shell.execute_reply": "2022-06-24T15:57:24.558543Z"
    },
    "papermill": {
     "duration": 0.012396,
     "end_time": "2022-06-24T15:57:24.561114",
     "exception": false,
     "start_time": "2022-06-24T15:57:24.548718",
     "status": "completed"
    },
    "tags": []
   },
   "outputs": [],
   "source": [
    "#q3.hint()\n",
    "#q3.solution()"
   ]
  },
  {
   "cell_type": "markdown",
   "id": "27f03782",
   "metadata": {
    "papermill": {
     "duration": 0.006215,
     "end_time": "2022-06-24T15:57:24.573001",
     "exception": false,
     "start_time": "2022-06-24T15:57:24.566786",
     "status": "completed"
    },
    "tags": []
   },
   "source": [
    "# 4. <span title=\"A bit spicy\" style=\"color: darkgreen \">🌶️</span>\n",
    "\n",
    "Next to the Blackjack table, the Python Challenge Casino has a slot machine. You can get a result from the slot machine by calling `play_slot_machine()`. The number it returns is your winnings in dollars. Usually it returns 0.  But sometimes you'll get lucky and get a big payday. Try running it below:"
   ]
  },
  {
   "cell_type": "code",
   "execution_count": 10,
   "id": "6cc60ef9",
   "metadata": {
    "execution": {
     "iopub.execute_input": "2022-06-24T15:57:24.585976Z",
     "iopub.status.busy": "2022-06-24T15:57:24.585255Z",
     "iopub.status.idle": "2022-06-24T15:57:24.590602Z",
     "shell.execute_reply": "2022-06-24T15:57:24.589818Z"
    },
    "papermill": {
     "duration": 0.014064,
     "end_time": "2022-06-24T15:57:24.592485",
     "exception": false,
     "start_time": "2022-06-24T15:57:24.578421",
     "status": "completed"
    },
    "tags": []
   },
   "outputs": [
    {
     "data": {
      "text/plain": [
       "0"
      ]
     },
     "execution_count": 10,
     "metadata": {},
     "output_type": "execute_result"
    }
   ],
   "source": [
    "play_slot_machine()"
   ]
  },
  {
   "cell_type": "markdown",
   "id": "eaeed3f7",
   "metadata": {
    "papermill": {
     "duration": 0.00515,
     "end_time": "2022-06-24T15:57:24.603158",
     "exception": false,
     "start_time": "2022-06-24T15:57:24.598008",
     "status": "completed"
    },
    "tags": []
   },
   "source": [
    "By the way, did we mention that each play costs $1? Don't worry, we'll send you the bill later.\n",
    "\n",
    "On average, how much money can you expect to gain (or lose) every time you play the machine?  The casino keeps it a secret, but you can estimate the average value of each pull using a technique called the **Monte Carlo method**. To estimate the average outcome, we simulate the scenario many times, and return the average result.\n",
    "\n",
    "Complete the following function to calculate the average value per play of the slot machine."
   ]
  },
  {
   "cell_type": "code",
   "execution_count": 11,
   "id": "2ff87064",
   "metadata": {
    "execution": {
     "iopub.execute_input": "2022-06-24T15:57:24.615927Z",
     "iopub.status.busy": "2022-06-24T15:57:24.615224Z",
     "iopub.status.idle": "2022-06-24T15:57:24.620151Z",
     "shell.execute_reply": "2022-06-24T15:57:24.619207Z"
    },
    "papermill": {
     "duration": 0.013654,
     "end_time": "2022-06-24T15:57:24.622196",
     "exception": false,
     "start_time": "2022-06-24T15:57:24.608542",
     "status": "completed"
    },
    "tags": []
   },
   "outputs": [],
   "source": [
    "def estimate_average_slot_payout(n_runs):\n",
    "    \"\"\"Run the slot machine n_runs times and return the average net profit per run.\n",
    "    Example calls (note that return value is nondeterministic!):\n",
    "    >>> estimate_average_slot_payout(1)\n",
    "    -1\n",
    "    >>> estimate_average_slot_payout(1)\n",
    "    0.5\n",
    "    \"\"\"\n",
    "    val = 0.0\n",
    "    for i in range(n_runs):\n",
    "        out = play_slot_machine()\n",
    "        val = val + out\n",
    "    return val / n_runs"
   ]
  },
  {
   "cell_type": "markdown",
   "id": "86178c92",
   "metadata": {
    "papermill": {
     "duration": 0.005343,
     "end_time": "2022-06-24T15:57:24.632960",
     "exception": false,
     "start_time": "2022-06-24T15:57:24.627617",
     "status": "completed"
    },
    "tags": []
   },
   "source": [
    "When you think you know the expected value per spin, run the code cell below to view the solution and get credit for answering the question."
   ]
  },
  {
   "cell_type": "code",
   "execution_count": 12,
   "id": "8474ccf0",
   "metadata": {
    "execution": {
     "iopub.execute_input": "2022-06-24T15:57:24.645451Z",
     "iopub.status.busy": "2022-06-24T15:57:24.644807Z",
     "iopub.status.idle": "2022-06-24T15:57:24.651694Z",
     "shell.execute_reply": "2022-06-24T15:57:24.650941Z"
    },
    "papermill": {
     "duration": 0.015303,
     "end_time": "2022-06-24T15:57:24.653559",
     "exception": false,
     "start_time": "2022-06-24T15:57:24.638256",
     "status": "completed"
    },
    "tags": []
   },
   "outputs": [
    {
     "data": {
      "application/javascript": [
       "parent.postMessage({\"jupyterEvent\": \"custom.exercise_interaction\", \"data\": {\"interactionType\": 3, \"questionType\": 4, \"questionId\": \"4_ExpectedSlotsPayout\", \"learnToolsVersion\": \"0.3.4\", \"valueTowardsCompletion\": 0.0, \"failureMessage\": \"\", \"exceptionClass\": \"\", \"trace\": \"\", \"outcomeType\": 4}}, \"*\")"
      ],
      "text/plain": [
       "<IPython.core.display.Javascript object>"
      ]
     },
     "metadata": {},
     "output_type": "display_data"
    },
    {
     "data": {
      "text/markdown": [
       "<span style=\"color:#33cc99\">Solution:</span> \n",
       "    \n",
       "The exact expected value of one pull of the slot machine is 0.025 - i.e. a little more than 2 cents.  See?  Not every game in the Python Challenge Casino is rigged against the player!\n",
       "\n",
       "In order to get this answer, you'll need to implement the `estimate_average_slot_payout(n_runs)` function to simulate pulling the slot machine `n_runs` times.  It should return the payout averaged over those `n_runs`.\n",
       "\n",
       "Then, once the function is defined, in order to estimate the average slot payout, we need only call the function.\n",
       "\n",
       "Because of the high variance of the outcome (there are some very rare high payout results that significantly affect the average) you might need to run your function with a very high value of `n_runs` to get a stable answer close to the true expectation.  For instance, you might use a value for `n_runs` of 1000000.\n",
       "\n",
       "Here's an example for how the function could look:\n",
       "```python\n",
       "def estimate_average_slot_payout(n_runs):\n",
       "    # Play slot machine n_runs times, calculate payout of each\n",
       "    payouts = [play_slot_machine()-1 for i in range(n_runs)]\n",
       "    # Calculate the average value\n",
       "    avg_payout = sum(payouts) / n_runs\n",
       "    return avg_payout\n",
       "    \n",
       "estimate_average_slot_payout(10000000)\n",
       "\n",
       "```\n",
       "\n",
       "This should return an answer close to 0.025!\n",
       "            \n"
      ],
      "text/plain": [
       "Solution: \n",
       "    \n",
       "The exact expected value of one pull of the slot machine is 0.025 - i.e. a little more than 2 cents.  See?  Not every game in the Python Challenge Casino is rigged against the player!\n",
       "\n",
       "In order to get this answer, you'll need to implement the `estimate_average_slot_payout(n_runs)` function to simulate pulling the slot machine `n_runs` times.  It should return the payout averaged over those `n_runs`.\n",
       "\n",
       "Then, once the function is defined, in order to estimate the average slot payout, we need only call the function.\n",
       "\n",
       "Because of the high variance of the outcome (there are some very rare high payout results that significantly affect the average) you might need to run your function with a very high value of `n_runs` to get a stable answer close to the true expectation.  For instance, you might use a value for `n_runs` of 1000000.\n",
       "\n",
       "Here's an example for how the function could look:\n",
       "```python\n",
       "def estimate_average_slot_payout(n_runs):\n",
       "    # Play slot machine n_runs times, calculate payout of each\n",
       "    payouts = [play_slot_machine()-1 for i in range(n_runs)]\n",
       "    # Calculate the average value\n",
       "    avg_payout = sum(payouts) / n_runs\n",
       "    return avg_payout\n",
       "    \n",
       "estimate_average_slot_payout(10000000)\n",
       "\n",
       "```\n",
       "\n",
       "This should return an answer close to 0.025!\n",
       "            "
      ]
     },
     "metadata": {},
     "output_type": "display_data"
    }
   ],
   "source": [
    "# Check your answer (Run this code cell to receive credit!)\n",
    "q4.solution()"
   ]
  },
  {
   "cell_type": "markdown",
   "id": "e1fba4ab",
   "metadata": {
    "papermill": {
     "duration": 0.005355,
     "end_time": "2022-06-24T15:57:24.664494",
     "exception": false,
     "start_time": "2022-06-24T15:57:24.659139",
     "status": "completed"
    },
    "tags": []
   },
   "source": [
    "# Keep Going\n",
    "\n",
    "Many programmers report that dictionaries are their favorite data structure. You'll get to **[learn about them](https://www.kaggle.com/colinmorris/strings-and-dictionaries)** (as well as strings) in the next lesson."
   ]
  },
  {
   "cell_type": "markdown",
   "id": "de15d1d6",
   "metadata": {
    "papermill": {
     "duration": 0.00531,
     "end_time": "2022-06-24T15:57:24.675402",
     "exception": false,
     "start_time": "2022-06-24T15:57:24.670092",
     "status": "completed"
    },
    "tags": []
   },
   "source": [
    "---\n",
    "\n",
    "\n",
    "\n",
    "\n",
    "*Have questions or comments? Visit the [course discussion forum](https://www.kaggle.com/learn/python/discussion) to chat with other learners.*"
   ]
  }
 ],
 "metadata": {
  "kernelspec": {
   "display_name": "Python 3",
   "language": "python",
   "name": "python3"
  },
  "language_info": {
   "codemirror_mode": {
    "name": "ipython",
    "version": 3
   },
   "file_extension": ".py",
   "mimetype": "text/x-python",
   "name": "python",
   "nbconvert_exporter": "python",
   "pygments_lexer": "ipython3",
   "version": "3.7.12"
  },
  "papermill": {
   "default_parameters": {},
   "duration": 10.112988,
   "end_time": "2022-06-24T15:57:25.301008",
   "environment_variables": {},
   "exception": null,
   "input_path": "__notebook__.ipynb",
   "output_path": "__notebook__.ipynb",
   "parameters": {},
   "start_time": "2022-06-24T15:57:15.188020",
   "version": "2.3.4"
  }
 },
 "nbformat": 4,
 "nbformat_minor": 5
}
