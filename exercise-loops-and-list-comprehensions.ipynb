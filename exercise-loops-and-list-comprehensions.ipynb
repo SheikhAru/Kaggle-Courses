{
 "cells": [
  {
   "cell_type": "markdown",
   "id": "d7b69919",
   "metadata": {
    "papermill": {
     "duration": 0.008023,
     "end_time": "2022-06-24T15:54:07.133210",
     "exception": false,
     "start_time": "2022-06-24T15:54:07.125187",
     "status": "completed"
    },
    "tags": []
   },
   "source": [
    "**This notebook is an exercise in the [Python](https://www.kaggle.com/learn/python) course.  You can reference the tutorial at [this link](https://www.kaggle.com/colinmorris/loops-and-list-comprehensions).**\n",
    "\n",
    "---\n"
   ]
  },
  {
   "cell_type": "markdown",
   "id": "f28bbf1b",
   "metadata": {
    "papermill": {
     "duration": 0.006761,
     "end_time": "2022-06-24T15:54:07.146682",
     "exception": false,
     "start_time": "2022-06-24T15:54:07.139921",
     "status": "completed"
    },
    "tags": []
   },
   "source": [
    "With all you've learned, you can start writing much more interesting programs. See if you can solve the problems below.\n",
    "\n",
    "As always, run the setup code below before working on the questions."
   ]
  },
  {
   "cell_type": "code",
   "execution_count": 1,
   "id": "985e4b7c",
   "metadata": {
    "execution": {
     "iopub.execute_input": "2022-06-24T15:54:07.162355Z",
     "iopub.status.busy": "2022-06-24T15:54:07.161852Z",
     "iopub.status.idle": "2022-06-24T15:54:07.232384Z",
     "shell.execute_reply": "2022-06-24T15:54:07.230438Z"
    },
    "papermill": {
     "duration": 0.082816,
     "end_time": "2022-06-24T15:54:07.236303",
     "exception": false,
     "start_time": "2022-06-24T15:54:07.153487",
     "status": "completed"
    },
    "tags": []
   },
   "outputs": [
    {
     "name": "stdout",
     "output_type": "stream",
     "text": [
      "Setup complete.\n"
     ]
    }
   ],
   "source": [
    "from learntools.core import binder; binder.bind(globals())\n",
    "from learntools.python.ex5 import *\n",
    "print('Setup complete.')"
   ]
  },
  {
   "cell_type": "markdown",
   "id": "d982f071",
   "metadata": {
    "papermill": {
     "duration": 0.006341,
     "end_time": "2022-06-24T15:54:07.249514",
     "exception": false,
     "start_time": "2022-06-24T15:54:07.243173",
     "status": "completed"
    },
    "tags": []
   },
   "source": [
    "# 1.\n",
    "\n",
    "Have you ever felt debugging involved a bit of luck? The following program has a bug. Try to identify the bug and fix it."
   ]
  },
  {
   "cell_type": "code",
   "execution_count": 2,
   "id": "e0cb0fb0",
   "metadata": {
    "execution": {
     "iopub.execute_input": "2022-06-24T15:54:07.264290Z",
     "iopub.status.busy": "2022-06-24T15:54:07.263866Z",
     "iopub.status.idle": "2022-06-24T15:54:07.270717Z",
     "shell.execute_reply": "2022-06-24T15:54:07.269490Z"
    },
    "papermill": {
     "duration": 0.017523,
     "end_time": "2022-06-24T15:54:07.273537",
     "exception": false,
     "start_time": "2022-06-24T15:54:07.256014",
     "status": "completed"
    },
    "tags": []
   },
   "outputs": [],
   "source": [
    "def has_lucky_number(nums):\n",
    "    \"\"\"Return whether the given list of numbers is lucky. A lucky list contains\n",
    "    at least one number divisible by 7.\n",
    "    \"\"\"\n",
    "    for num in nums:\n",
    "        if num % 7 == 0:\n",
    "            return True\n",
    "        else:\n",
    "            return False"
   ]
  },
  {
   "cell_type": "markdown",
   "id": "8af883b4",
   "metadata": {
    "papermill": {
     "duration": 0.006413,
     "end_time": "2022-06-24T15:54:07.286676",
     "exception": false,
     "start_time": "2022-06-24T15:54:07.280263",
     "status": "completed"
    },
    "tags": []
   },
   "source": [
    "Try to identify the bug and fix it in the cell below:"
   ]
  },
  {
   "cell_type": "code",
   "execution_count": 3,
   "id": "a3f8b4e4",
   "metadata": {
    "execution": {
     "iopub.execute_input": "2022-06-24T15:54:07.301722Z",
     "iopub.status.busy": "2022-06-24T15:54:07.301307Z",
     "iopub.status.idle": "2022-06-24T15:54:07.315112Z",
     "shell.execute_reply": "2022-06-24T15:54:07.313176Z"
    },
    "papermill": {
     "duration": 0.024758,
     "end_time": "2022-06-24T15:54:07.318078",
     "exception": false,
     "start_time": "2022-06-24T15:54:07.293320",
     "status": "completed"
    },
    "tags": []
   },
   "outputs": [
    {
     "data": {
      "application/javascript": [
       "parent.postMessage({\"jupyterEvent\": \"custom.exercise_interaction\", \"data\": {\"outcomeType\": 1, \"valueTowardsCompletion\": 0.25, \"interactionType\": 1, \"questionType\": 2, \"questionId\": \"1_EarlyExitDebugging\", \"learnToolsVersion\": \"0.3.4\", \"failureMessage\": \"\", \"exceptionClass\": \"\", \"trace\": \"\"}}, \"*\")"
      ],
      "text/plain": [
       "<IPython.core.display.Javascript object>"
      ]
     },
     "metadata": {},
     "output_type": "display_data"
    },
    {
     "data": {
      "text/markdown": [
       "<span style=\"color:#33cc33\">Correct:</span> \n",
       "\n",
       "Remember that `return` causes a function to exit immediately. So our original implementation always ran for just one iteration. We can only return `False` if we've looked at every element of the list (and confirmed that none of them are lucky). Though we can return early if the answer is `True`:\n",
       "\n",
       "```python\n",
       "def has_lucky_number(nums):\n",
       "    for num in nums:\n",
       "        if num % 7 == 0:\n",
       "            return True\n",
       "    # We've exhausted the list without finding a lucky number\n",
       "    return False\n",
       "```\n",
       "\n",
       "Here's a one-line version using a list comprehension with Python's `any` function (you can read about what it does by calling `help(any)`):\n",
       "\n",
       "```python\n",
       "def has_lucky_number(nums):\n",
       "    return any([num % 7 == 0 for num in nums])\n",
       "```\n"
      ],
      "text/plain": [
       "Correct: \n",
       "\n",
       "Remember that `return` causes a function to exit immediately. So our original implementation always ran for just one iteration. We can only return `False` if we've looked at every element of the list (and confirmed that none of them are lucky). Though we can return early if the answer is `True`:\n",
       "\n",
       "```python\n",
       "def has_lucky_number(nums):\n",
       "    for num in nums:\n",
       "        if num % 7 == 0:\n",
       "            return True\n",
       "    # We've exhausted the list without finding a lucky number\n",
       "    return False\n",
       "```\n",
       "\n",
       "Here's a one-line version using a list comprehension with Python's `any` function (you can read about what it does by calling `help(any)`):\n",
       "\n",
       "```python\n",
       "def has_lucky_number(nums):\n",
       "    return any([num % 7 == 0 for num in nums])\n",
       "```"
      ]
     },
     "metadata": {},
     "output_type": "display_data"
    }
   ],
   "source": [
    "def has_lucky_number(nums):\n",
    "    \"\"\"Return whether the given list of numbers is lucky. A lucky list contains\n",
    "    at least one number divisible by 7.\n",
    "    \"\"\"\n",
    "    for num in nums:\n",
    "        if num % 7 == 0:\n",
    "            return True\n",
    "    return False\n",
    "#help(any)\n",
    "#return any([num % 7 == 0 for num in nums])\n",
    "\n",
    "# Check your answer\n",
    "q1.check()"
   ]
  },
  {
   "cell_type": "code",
   "execution_count": 4,
   "id": "cbce1982",
   "metadata": {
    "execution": {
     "iopub.execute_input": "2022-06-24T15:54:07.333504Z",
     "iopub.status.busy": "2022-06-24T15:54:07.333080Z",
     "iopub.status.idle": "2022-06-24T15:54:07.337994Z",
     "shell.execute_reply": "2022-06-24T15:54:07.336785Z"
    },
    "papermill": {
     "duration": 0.016173,
     "end_time": "2022-06-24T15:54:07.341130",
     "exception": false,
     "start_time": "2022-06-24T15:54:07.324957",
     "status": "completed"
    },
    "tags": []
   },
   "outputs": [],
   "source": [
    "#q1.hint()\n",
    "#q1.solution()"
   ]
  },
  {
   "cell_type": "markdown",
   "id": "8fc76bbb",
   "metadata": {
    "papermill": {
     "duration": 0.006402,
     "end_time": "2022-06-24T15:54:07.354735",
     "exception": false,
     "start_time": "2022-06-24T15:54:07.348333",
     "status": "completed"
    },
    "tags": []
   },
   "source": [
    "# 2.\n",
    "Look at the Python expression below. What do you think we'll get when we run it? When you've made your prediction, uncomment the code and run the cell to see if you were right."
   ]
  },
  {
   "cell_type": "code",
   "execution_count": 5,
   "id": "a6b64f22",
   "metadata": {
    "execution": {
     "iopub.execute_input": "2022-06-24T15:54:07.369833Z",
     "iopub.status.busy": "2022-06-24T15:54:07.369415Z",
     "iopub.status.idle": "2022-06-24T15:54:07.374850Z",
     "shell.execute_reply": "2022-06-24T15:54:07.373466Z"
    },
    "papermill": {
     "duration": 0.015976,
     "end_time": "2022-06-24T15:54:07.377415",
     "exception": false,
     "start_time": "2022-06-24T15:54:07.361439",
     "status": "completed"
    },
    "tags": []
   },
   "outputs": [],
   "source": [
    "#[1, 2, 3, 4] > 2"
   ]
  },
  {
   "cell_type": "markdown",
   "id": "a4864bad",
   "metadata": {
    "papermill": {
     "duration": 0.006866,
     "end_time": "2022-06-24T15:54:07.391195",
     "exception": false,
     "start_time": "2022-06-24T15:54:07.384329",
     "status": "completed"
    },
    "tags": []
   },
   "source": [
    "R and Python have some libraries (like numpy and pandas) compare each element of the list to 2 (i.e. do an 'element-wise' comparison) and give us a list of booleans like `[False, False, True, True]`. \n",
    "\n",
    "Implement a function that reproduces this behaviour, returning a list of booleans corresponding to whether the corresponding element is greater than n."
   ]
  },
  {
   "cell_type": "code",
   "execution_count": 6,
   "id": "b0d5a476",
   "metadata": {
    "execution": {
     "iopub.execute_input": "2022-06-24T15:54:07.407570Z",
     "iopub.status.busy": "2022-06-24T15:54:07.407153Z",
     "iopub.status.idle": "2022-06-24T15:54:07.418888Z",
     "shell.execute_reply": "2022-06-24T15:54:07.417601Z"
    },
    "papermill": {
     "duration": 0.023433,
     "end_time": "2022-06-24T15:54:07.422110",
     "exception": false,
     "start_time": "2022-06-24T15:54:07.398677",
     "status": "completed"
    },
    "tags": []
   },
   "outputs": [
    {
     "data": {
      "application/javascript": [
       "parent.postMessage({\"jupyterEvent\": \"custom.exercise_interaction\", \"data\": {\"outcomeType\": 1, \"valueTowardsCompletion\": 0.25, \"interactionType\": 1, \"questionType\": 2, \"questionId\": \"2_ElementWiseComparison\", \"learnToolsVersion\": \"0.3.4\", \"failureMessage\": \"\", \"exceptionClass\": \"\", \"trace\": \"\"}}, \"*\")"
      ],
      "text/plain": [
       "<IPython.core.display.Javascript object>"
      ]
     },
     "metadata": {},
     "output_type": "display_data"
    },
    {
     "data": {
      "text/markdown": [
       "<span style=\"color:#33cc33\">Correct:</span> \n",
       "\n",
       "Here's one solution:\n",
       "```python\n",
       "def elementwise_greater_than(L, thresh):\n",
       "    res = []\n",
       "    for ele in L:\n",
       "        res.append(ele > thresh)\n",
       "    return res\n",
       "```\n",
       "\n",
       "And here's the list comprehension version:\n",
       "```python\n",
       "def elementwise_greater_than(L, thresh):\n",
       "    return [ele > thresh for ele in L]\n",
       "```\n"
      ],
      "text/plain": [
       "Correct: \n",
       "\n",
       "Here's one solution:\n",
       "```python\n",
       "def elementwise_greater_than(L, thresh):\n",
       "    res = []\n",
       "    for ele in L:\n",
       "        res.append(ele > thresh)\n",
       "    return res\n",
       "```\n",
       "\n",
       "And here's the list comprehension version:\n",
       "```python\n",
       "def elementwise_greater_than(L, thresh):\n",
       "    return [ele > thresh for ele in L]\n",
       "```"
      ]
     },
     "metadata": {},
     "output_type": "display_data"
    }
   ],
   "source": [
    "def elementwise_greater_than(L, thresh):\n",
    "    \"\"\"Return a list with the same length as L, where the value at index i is \n",
    "    True if L[i] is greater than thresh, and False otherwise.\n",
    "    \n",
    "    >>> elementwise_greater_than([1, 2, 3, 4], 2)\n",
    "    [False, False, True, True]\n",
    "    \"\"\"\n",
    "    out = []\n",
    "    for i in L:\n",
    "        out.append(i > thresh)\n",
    "    return out\n",
    "#    return [i > thresh for i in L]\n",
    "# Check your answer\n",
    "q2.check()"
   ]
  },
  {
   "cell_type": "code",
   "execution_count": 7,
   "id": "ba6f4bb1",
   "metadata": {
    "execution": {
     "iopub.execute_input": "2022-06-24T15:54:07.439048Z",
     "iopub.status.busy": "2022-06-24T15:54:07.438612Z",
     "iopub.status.idle": "2022-06-24T15:54:07.444104Z",
     "shell.execute_reply": "2022-06-24T15:54:07.442569Z"
    },
    "papermill": {
     "duration": 0.01712,
     "end_time": "2022-06-24T15:54:07.446617",
     "exception": false,
     "start_time": "2022-06-24T15:54:07.429497",
     "status": "completed"
    },
    "tags": []
   },
   "outputs": [],
   "source": [
    "#q2.solution()"
   ]
  },
  {
   "cell_type": "markdown",
   "id": "9a9bdf16",
   "metadata": {
    "papermill": {
     "duration": 0.006808,
     "end_time": "2022-06-24T15:54:07.460591",
     "exception": false,
     "start_time": "2022-06-24T15:54:07.453783",
     "status": "completed"
    },
    "tags": []
   },
   "source": [
    "# 3.\n",
    "\n",
    "Complete the body of the function below according to its docstring."
   ]
  },
  {
   "cell_type": "code",
   "execution_count": 8,
   "id": "41523fd2",
   "metadata": {
    "execution": {
     "iopub.execute_input": "2022-06-24T15:54:07.476897Z",
     "iopub.status.busy": "2022-06-24T15:54:07.476369Z",
     "iopub.status.idle": "2022-06-24T15:54:07.486808Z",
     "shell.execute_reply": "2022-06-24T15:54:07.485633Z"
    },
    "papermill": {
     "duration": 0.021615,
     "end_time": "2022-06-24T15:54:07.489394",
     "exception": false,
     "start_time": "2022-06-24T15:54:07.467779",
     "status": "completed"
    },
    "tags": []
   },
   "outputs": [
    {
     "data": {
      "application/javascript": [
       "parent.postMessage({\"jupyterEvent\": \"custom.exercise_interaction\", \"data\": {\"outcomeType\": 1, \"valueTowardsCompletion\": 0.25, \"interactionType\": 1, \"questionType\": 2, \"questionId\": \"3_BoringMenu\", \"learnToolsVersion\": \"0.3.4\", \"failureMessage\": \"\", \"exceptionClass\": \"\", \"trace\": \"\"}}, \"*\")"
      ],
      "text/plain": [
       "<IPython.core.display.Javascript object>"
      ]
     },
     "metadata": {},
     "output_type": "display_data"
    },
    {
     "data": {
      "text/markdown": [
       "<span style=\"color:#33cc33\">Correct:</span> \n",
       "\n",
       "\n",
       "\n",
       "```python\n",
       "def menu_is_boring(meals):\n",
       "    # Iterate over all indices of the list, except the last one\n",
       "    for i in range(len(meals)-1):\n",
       "        if meals[i] == meals[i+1]:\n",
       "            return True\n",
       "    return False\n",
       "```\n",
       "\n",
       "The key to our solution is the call to `range`. `range(len(meals))` would give us all the indices of `meals`. If we had used that range, the last iteration of the loop would be comparing the last element to the element after it, which is... `IndexError`! `range(len(meals)-1)` gives us all the indices except the index of the last element.\n",
       "\n",
       "But don't we need to check if `meals` is empty? Turns out that `range(0) == range(-1)` - they're both empty. So if `meals` has length 0 or 1, we just won't do any iterations of our for loop.\n"
      ],
      "text/plain": [
       "Correct: \n",
       "\n",
       "\n",
       "\n",
       "```python\n",
       "def menu_is_boring(meals):\n",
       "    # Iterate over all indices of the list, except the last one\n",
       "    for i in range(len(meals)-1):\n",
       "        if meals[i] == meals[i+1]:\n",
       "            return True\n",
       "    return False\n",
       "```\n",
       "\n",
       "The key to our solution is the call to `range`. `range(len(meals))` would give us all the indices of `meals`. If we had used that range, the last iteration of the loop would be comparing the last element to the element after it, which is... `IndexError`! `range(len(meals)-1)` gives us all the indices except the index of the last element.\n",
       "\n",
       "But don't we need to check if `meals` is empty? Turns out that `range(0) == range(-1)` - they're both empty. So if `meals` has length 0 or 1, we just won't do any iterations of our for loop."
      ]
     },
     "metadata": {},
     "output_type": "display_data"
    }
   ],
   "source": [
    "def menu_is_boring(meals):\n",
    "    \"\"\"Given a list of meals served over some period of time, return True if the\n",
    "    same meal has ever been served two days in a row, and False otherwise.\n",
    "    \"\"\"\n",
    "    for i in range(len(meals)-1):\n",
    "        if meals[i+1] == meals[i]:\n",
    "            return True\n",
    "    return False\n",
    "\n",
    "# Check your answer\n",
    "q3.check()"
   ]
  },
  {
   "cell_type": "code",
   "execution_count": 9,
   "id": "ad1dd449",
   "metadata": {
    "execution": {
     "iopub.execute_input": "2022-06-24T15:54:07.507163Z",
     "iopub.status.busy": "2022-06-24T15:54:07.506738Z",
     "iopub.status.idle": "2022-06-24T15:54:07.511810Z",
     "shell.execute_reply": "2022-06-24T15:54:07.510574Z"
    },
    "papermill": {
     "duration": 0.017007,
     "end_time": "2022-06-24T15:54:07.514208",
     "exception": false,
     "start_time": "2022-06-24T15:54:07.497201",
     "status": "completed"
    },
    "tags": []
   },
   "outputs": [],
   "source": [
    "#q3.hint()\n",
    "#q3.solution()"
   ]
  },
  {
   "cell_type": "markdown",
   "id": "9046cc79",
   "metadata": {
    "papermill": {
     "duration": 0.008675,
     "end_time": "2022-06-24T15:54:07.530809",
     "exception": false,
     "start_time": "2022-06-24T15:54:07.522134",
     "status": "completed"
    },
    "tags": []
   },
   "source": [
    "# 4. <span title=\"A bit spicy\" style=\"color: darkgreen \">🌶️</span>\n",
    "\n",
    "Next to the Blackjack table, the Python Challenge Casino has a slot machine. You can get a result from the slot machine by calling `play_slot_machine()`. The number it returns is your winnings in dollars. Usually it returns 0.  But sometimes you'll get lucky and get a big payday. Try running it below:"
   ]
  },
  {
   "cell_type": "code",
   "execution_count": 10,
   "id": "f0e37c52",
   "metadata": {
    "execution": {
     "iopub.execute_input": "2022-06-24T15:54:07.549267Z",
     "iopub.status.busy": "2022-06-24T15:54:07.548826Z",
     "iopub.status.idle": "2022-06-24T15:54:07.555195Z",
     "shell.execute_reply": "2022-06-24T15:54:07.554221Z"
    },
    "papermill": {
     "duration": 0.020096,
     "end_time": "2022-06-24T15:54:07.558660",
     "exception": false,
     "start_time": "2022-06-24T15:54:07.538564",
     "status": "completed"
    },
    "tags": []
   },
   "outputs": [
    {
     "data": {
      "text/plain": [
       "0"
      ]
     },
     "execution_count": 10,
     "metadata": {},
     "output_type": "execute_result"
    }
   ],
   "source": [
    "play_slot_machine()"
   ]
  },
  {
   "cell_type": "markdown",
   "id": "fde3ba8a",
   "metadata": {
    "papermill": {
     "duration": 0.007267,
     "end_time": "2022-06-24T15:54:07.573563",
     "exception": false,
     "start_time": "2022-06-24T15:54:07.566296",
     "status": "completed"
    },
    "tags": []
   },
   "source": [
    "By the way, did we mention that each play costs $1? Don't worry, we'll send you the bill later.\n",
    "\n",
    "On average, how much money can you expect to gain (or lose) every time you play the machine?  The casino keeps it a secret, but you can estimate the average value of each pull using a technique called the **Monte Carlo method**. To estimate the average outcome, we simulate the scenario many times, and return the average result.\n",
    "\n",
    "Complete the following function to calculate the average value per play of the slot machine."
   ]
  },
  {
   "cell_type": "code",
   "execution_count": 11,
   "id": "67823c91",
   "metadata": {
    "execution": {
     "iopub.execute_input": "2022-06-24T15:54:07.591304Z",
     "iopub.status.busy": "2022-06-24T15:54:07.590885Z",
     "iopub.status.idle": "2022-06-24T15:54:07.596901Z",
     "shell.execute_reply": "2022-06-24T15:54:07.595459Z"
    },
    "papermill": {
     "duration": 0.018078,
     "end_time": "2022-06-24T15:54:07.599577",
     "exception": false,
     "start_time": "2022-06-24T15:54:07.581499",
     "status": "completed"
    },
    "tags": []
   },
   "outputs": [],
   "source": [
    "def estimate_average_slot_payout(n_runs):\n",
    "    \"\"\"Run the slot machine n_runs times and return the average net profit per run.\n",
    "    Example calls (note that return value is nondeterministic!):\n",
    "    >>> estimate_average_slot_payout(1)\n",
    "    -1\n",
    "    >>> estimate_average_slot_payout(1)\n",
    "    0.5\n",
    "    \"\"\"\n",
    "    val = 0.0\n",
    "    for i in range(n_runs):\n",
    "        out = play_slot_machine()\n",
    "        val = val + out\n",
    "    return val / n_runs"
   ]
  },
  {
   "cell_type": "markdown",
   "id": "7733f539",
   "metadata": {
    "papermill": {
     "duration": 0.007507,
     "end_time": "2022-06-24T15:54:07.614673",
     "exception": false,
     "start_time": "2022-06-24T15:54:07.607166",
     "status": "completed"
    },
    "tags": []
   },
   "source": [
    "When you think you know the expected value per spin, run the code cell below to view the solution and get credit for answering the question."
   ]
  },
  {
   "cell_type": "code",
   "execution_count": 12,
   "id": "f9db642d",
   "metadata": {
    "execution": {
     "iopub.execute_input": "2022-06-24T15:54:07.632102Z",
     "iopub.status.busy": "2022-06-24T15:54:07.631669Z",
     "iopub.status.idle": "2022-06-24T15:54:07.640131Z",
     "shell.execute_reply": "2022-06-24T15:54:07.639215Z"
    },
    "papermill": {
     "duration": 0.020306,
     "end_time": "2022-06-24T15:54:07.642664",
     "exception": false,
     "start_time": "2022-06-24T15:54:07.622358",
     "status": "completed"
    },
    "tags": []
   },
   "outputs": [
    {
     "data": {
      "application/javascript": [
       "parent.postMessage({\"jupyterEvent\": \"custom.exercise_interaction\", \"data\": {\"interactionType\": 3, \"questionType\": 4, \"questionId\": \"4_ExpectedSlotsPayout\", \"learnToolsVersion\": \"0.3.4\", \"valueTowardsCompletion\": 0.0, \"failureMessage\": \"\", \"exceptionClass\": \"\", \"trace\": \"\", \"outcomeType\": 4}}, \"*\")"
      ],
      "text/plain": [
       "<IPython.core.display.Javascript object>"
      ]
     },
     "metadata": {},
     "output_type": "display_data"
    },
    {
     "data": {
      "text/markdown": [
       "<span style=\"color:#33cc99\">Solution:</span> \n",
       "    \n",
       "The exact expected value of one pull of the slot machine is 0.025 - i.e. a little more than 2 cents.  See?  Not every game in the Python Challenge Casino is rigged against the player!\n",
       "\n",
       "In order to get this answer, you'll need to implement the `estimate_average_slot_payout(n_runs)` function to simulate pulling the slot machine `n_runs` times.  It should return the payout averaged over those `n_runs`.\n",
       "\n",
       "Then, once the function is defined, in order to estimate the average slot payout, we need only call the function.\n",
       "\n",
       "Because of the high variance of the outcome (there are some very rare high payout results that significantly affect the average) you might need to run your function with a very high value of `n_runs` to get a stable answer close to the true expectation.  For instance, you might use a value for `n_runs` of 1000000.\n",
       "\n",
       "Here's an example for how the function could look:\n",
       "```python\n",
       "def estimate_average_slot_payout(n_runs):\n",
       "    # Play slot machine n_runs times, calculate payout of each\n",
       "    payouts = [play_slot_machine()-1 for i in range(n_runs)]\n",
       "    # Calculate the average value\n",
       "    avg_payout = sum(payouts) / n_runs\n",
       "    return avg_payout\n",
       "    \n",
       "estimate_average_slot_payout(10000000)\n",
       "\n",
       "```\n",
       "\n",
       "This should return an answer close to 0.025!\n",
       "            \n"
      ],
      "text/plain": [
       "Solution: \n",
       "    \n",
       "The exact expected value of one pull of the slot machine is 0.025 - i.e. a little more than 2 cents.  See?  Not every game in the Python Challenge Casino is rigged against the player!\n",
       "\n",
       "In order to get this answer, you'll need to implement the `estimate_average_slot_payout(n_runs)` function to simulate pulling the slot machine `n_runs` times.  It should return the payout averaged over those `n_runs`.\n",
       "\n",
       "Then, once the function is defined, in order to estimate the average slot payout, we need only call the function.\n",
       "\n",
       "Because of the high variance of the outcome (there are some very rare high payout results that significantly affect the average) you might need to run your function with a very high value of `n_runs` to get a stable answer close to the true expectation.  For instance, you might use a value for `n_runs` of 1000000.\n",
       "\n",
       "Here's an example for how the function could look:\n",
       "```python\n",
       "def estimate_average_slot_payout(n_runs):\n",
       "    # Play slot machine n_runs times, calculate payout of each\n",
       "    payouts = [play_slot_machine()-1 for i in range(n_runs)]\n",
       "    # Calculate the average value\n",
       "    avg_payout = sum(payouts) / n_runs\n",
       "    return avg_payout\n",
       "    \n",
       "estimate_average_slot_payout(10000000)\n",
       "\n",
       "```\n",
       "\n",
       "This should return an answer close to 0.025!\n",
       "            "
      ]
     },
     "metadata": {},
     "output_type": "display_data"
    }
   ],
   "source": [
    "# Check your answer (Run this code cell to receive credit!)\n",
    "q4.solution()"
   ]
  },
  {
   "cell_type": "markdown",
   "id": "a2d362e3",
   "metadata": {
    "papermill": {
     "duration": 0.007699,
     "end_time": "2022-06-24T15:54:07.658601",
     "exception": false,
     "start_time": "2022-06-24T15:54:07.650902",
     "status": "completed"
    },
    "tags": []
   },
   "source": [
    "# Keep Going\n",
    "\n",
    "Many programmers report that dictionaries are their favorite data structure. You'll get to **[learn about them](https://www.kaggle.com/colinmorris/strings-and-dictionaries)** (as well as strings) in the next lesson."
   ]
  },
  {
   "cell_type": "markdown",
   "id": "c540655f",
   "metadata": {
    "papermill": {
     "duration": 0.007963,
     "end_time": "2022-06-24T15:54:07.674754",
     "exception": false,
     "start_time": "2022-06-24T15:54:07.666791",
     "status": "completed"
    },
    "tags": []
   },
   "source": [
    "---\n",
    "\n",
    "\n",
    "\n",
    "\n",
    "*Have questions or comments? Visit the [course discussion forum](https://www.kaggle.com/learn/python/discussion) to chat with other learners.*"
   ]
  }
 ],
 "metadata": {
  "kernelspec": {
   "display_name": "Python 3",
   "language": "python",
   "name": "python3"
  },
  "language_info": {
   "codemirror_mode": {
    "name": "ipython",
    "version": 3
   },
   "file_extension": ".py",
   "mimetype": "text/x-python",
   "name": "python",
   "nbconvert_exporter": "python",
   "pygments_lexer": "ipython3",
   "version": "3.7.12"
  },
  "papermill": {
   "default_parameters": {},
   "duration": 13.545983,
   "end_time": "2022-06-24T15:54:08.405398",
   "environment_variables": {},
   "exception": null,
   "input_path": "__notebook__.ipynb",
   "output_path": "__notebook__.ipynb",
   "parameters": {},
   "start_time": "2022-06-24T15:53:54.859415",
   "version": "2.3.4"
  }
 },
 "nbformat": 4,
 "nbformat_minor": 5
}
