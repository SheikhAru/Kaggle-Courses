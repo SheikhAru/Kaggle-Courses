{
 "cells": [
  {
   "cell_type": "markdown",
   "id": "01a68343",
   "metadata": {
    "papermill": {
     "duration": 0.008854,
     "end_time": "2022-06-14T19:11:47.003937",
     "exception": false,
     "start_time": "2022-06-14T19:11:46.995083",
     "status": "completed"
    },
    "tags": []
   },
   "source": [
    "**This notebook is an exercise in the [Python](https://www.kaggle.com/learn/python) course.  You can reference the tutorial at [this link](https://www.kaggle.com/colinmorris/hello-python).**\n",
    "\n",
    "---\n"
   ]
  },
  {
   "cell_type": "markdown",
   "id": "f30e3c6f",
   "metadata": {
    "papermill": {
     "duration": 0.007482,
     "end_time": "2022-06-14T19:11:47.019400",
     "exception": false,
     "start_time": "2022-06-14T19:11:47.011918",
     "status": "completed"
    },
    "tags": []
   },
   "source": [
    "Welcome to your first set of Python coding problems.  If this is your first time using Kaggle Notebooks, welcome! \n",
    "\n",
    "Notebooks are composed of blocks (called \"cells\") of text and code. Each of these is editable, though you'll mainly be editing the code cells to answer some questions.\n",
    "\n",
    "To get started, try running the code cell below (by pressing the ► button, or clicking on the cell and pressing ctrl+enter on your keyboard)."
   ]
  },
  {
   "cell_type": "code",
   "execution_count": 1,
   "id": "0d1f2c14",
   "metadata": {
    "execution": {
     "iopub.execute_input": "2022-06-14T19:11:47.036711Z",
     "iopub.status.busy": "2022-06-14T19:11:47.036258Z",
     "iopub.status.idle": "2022-06-14T19:11:47.047677Z",
     "shell.execute_reply": "2022-06-14T19:11:47.046389Z"
    },
    "papermill": {
     "duration": 0.022651,
     "end_time": "2022-06-14T19:11:47.049934",
     "exception": false,
     "start_time": "2022-06-14T19:11:47.027283",
     "status": "completed"
    },
    "tags": []
   },
   "outputs": [
    {
     "name": "stdout",
     "output_type": "stream",
     "text": [
      "Hello Kaggle!\n"
     ]
    }
   ],
   "source": [
    "print('Hello Kaggle!')"
   ]
  },
  {
   "cell_type": "code",
   "execution_count": 2,
   "id": "cfa211bf",
   "metadata": {
    "execution": {
     "iopub.execute_input": "2022-06-14T19:11:47.068238Z",
     "iopub.status.busy": "2022-06-14T19:11:47.067814Z",
     "iopub.status.idle": "2022-06-14T19:11:47.072308Z",
     "shell.execute_reply": "2022-06-14T19:11:47.071552Z"
    },
    "papermill": {
     "duration": 0.015525,
     "end_time": "2022-06-14T19:11:47.074109",
     "exception": false,
     "start_time": "2022-06-14T19:11:47.058584",
     "status": "completed"
    },
    "tags": []
   },
   "outputs": [
    {
     "name": "stdout",
     "output_type": "stream",
     "text": [
      "You've successfully run some Python code\n",
      "Congratulations!\n"
     ]
    }
   ],
   "source": [
    "print(\"You've successfully run some Python code\")\n",
    "print(\"Congratulations!\")"
   ]
  },
  {
   "cell_type": "markdown",
   "id": "ef01d2f6",
   "metadata": {
    "papermill": {
     "duration": 0.00795,
     "end_time": "2022-06-14T19:11:47.090669",
     "exception": false,
     "start_time": "2022-06-14T19:11:47.082719",
     "status": "completed"
    },
    "tags": []
   },
   "source": [
    "Try adding another line of code in the cell above and re-running it. \n",
    "\n",
    "Now let's get a little fancier:  Add a new code cell by clicking on an existing code cell, hitting the escape key, and then hitting the `a` or `b` key.  The `a` key will add a cell above the current cell, and `b` adds a cell below.\n",
    "\n",
    "Great! Now you know how to use Notebooks.\n",
    "\n",
    "Each hands-on exercise starts by setting up our feedback and code checking mechanism. Run the code cell below to do that. Then you'll be ready to move on to question 0."
   ]
  },
  {
   "cell_type": "code",
   "execution_count": 3,
   "id": "d8e39f17",
   "metadata": {
    "_kg_hide-input": true,
    "_kg_hide-output": true,
    "execution": {
     "iopub.execute_input": "2022-06-14T19:11:47.108437Z",
     "iopub.status.busy": "2022-06-14T19:11:47.108021Z",
     "iopub.status.idle": "2022-06-14T19:11:47.158589Z",
     "shell.execute_reply": "2022-06-14T19:11:47.157268Z"
    },
    "papermill": {
     "duration": 0.063405,
     "end_time": "2022-06-14T19:11:47.162228",
     "exception": false,
     "start_time": "2022-06-14T19:11:47.098823",
     "status": "completed"
    },
    "tags": []
   },
   "outputs": [
    {
     "name": "stdout",
     "output_type": "stream",
     "text": [
      "Setup complete! You're ready to start question 0.\n"
     ]
    }
   ],
   "source": [
    "from learntools.core import binder; binder.bind(globals())\n",
    "from learntools.python.ex1 import *\n",
    "print(\"Setup complete! You're ready to start question 0.\")"
   ]
  },
  {
   "cell_type": "markdown",
   "id": "8ad1362c",
   "metadata": {
    "papermill": {
     "duration": 0.007626,
     "end_time": "2022-06-14T19:11:47.178611",
     "exception": false,
     "start_time": "2022-06-14T19:11:47.170985",
     "status": "completed"
    },
    "tags": []
   },
   "source": [
    "# 0.\n",
    "\n",
    "*This is a silly question intended as an introduction to the format we use for hands-on exercises throughout all Kaggle courses.*\n",
    "\n",
    "**What is your favorite color? **\n",
    "\n",
    "To complete this question, create a variable called `color` in the cell below with an appropriate value. The function call `q0.check()` (which we've already provided in the cell below) will check your answer."
   ]
  },
  {
   "cell_type": "code",
   "execution_count": 4,
   "id": "f5464947",
   "metadata": {
    "execution": {
     "iopub.execute_input": "2022-06-14T19:11:47.197366Z",
     "iopub.status.busy": "2022-06-14T19:11:47.196700Z",
     "iopub.status.idle": "2022-06-14T19:11:47.207208Z",
     "shell.execute_reply": "2022-06-14T19:11:47.206261Z"
    },
    "papermill": {
     "duration": 0.022512,
     "end_time": "2022-06-14T19:11:47.209152",
     "exception": false,
     "start_time": "2022-06-14T19:11:47.186640",
     "status": "completed"
    },
    "tags": []
   },
   "outputs": [
    {
     "data": {
      "application/javascript": [
       "parent.postMessage({\"jupyterEvent\": \"custom.exercise_interaction\", \"data\": {\"outcomeType\": 1, \"valueTowardsCompletion\": 0.25, \"interactionType\": 1, \"questionType\": 2, \"questionId\": \"0_ExerciseFormatTutorial\", \"learnToolsVersion\": \"0.3.4\", \"failureMessage\": \"\", \"exceptionClass\": \"\", \"trace\": \"\"}}, \"*\")"
      ],
      "text/plain": [
       "<IPython.core.display.Javascript object>"
      ]
     },
     "metadata": {},
     "output_type": "display_data"
    },
    {
     "data": {
      "text/markdown": [
       "<span style=\"color:#33cc33\">Correct:</span> What?! You got it right without needing a hint or anything? Drats. Well hey, you should still continue to the next step to get some practice asking for a hint and checking solutions. (Even though you obviously don't need any help here.)"
      ],
      "text/plain": [
       "Correct: What?! You got it right without needing a hint or anything? Drats. Well hey, you should still continue to the next step to get some practice asking for a hint and checking solutions. (Even though you obviously don't need any help here.)"
      ]
     },
     "metadata": {},
     "output_type": "display_data"
    }
   ],
   "source": [
    "# create a variable called color with an appropriate value on the line below\n",
    "# (Remember, strings in Python must be enclosed in 'single' or \"double\" quotes)\n",
    "color = 'blue'\n",
    "# Check your answer\n",
    "q0.check()"
   ]
  },
  {
   "cell_type": "markdown",
   "id": "a93f9f7f",
   "metadata": {
    "papermill": {
     "duration": 0.007935,
     "end_time": "2022-06-14T19:11:47.225300",
     "exception": false,
     "start_time": "2022-06-14T19:11:47.217365",
     "status": "completed"
    },
    "tags": []
   },
   "source": [
    "Didn't get the right answer? How do you not even know your own favorite color?!\n",
    "\n",
    "Delete the `#` in the line below to make one of the lines run. You can choose between getting a hint or the full answer by choosing which line to remove the `#` from. \n",
    "\n",
    "Removing the `#` is called uncommenting, because it changes that line from a \"comment\" which Python doesn't run to code, which Python does run."
   ]
  },
  {
   "cell_type": "code",
   "execution_count": 5,
   "id": "9b2ca473",
   "metadata": {
    "execution": {
     "iopub.execute_input": "2022-06-14T19:11:47.243726Z",
     "iopub.status.busy": "2022-06-14T19:11:47.243110Z",
     "iopub.status.idle": "2022-06-14T19:11:47.250771Z",
     "shell.execute_reply": "2022-06-14T19:11:47.250044Z"
    },
    "papermill": {
     "duration": 0.019059,
     "end_time": "2022-06-14T19:11:47.252591",
     "exception": false,
     "start_time": "2022-06-14T19:11:47.233532",
     "status": "completed"
    },
    "tags": []
   },
   "outputs": [
    {
     "data": {
      "application/javascript": [
       "parent.postMessage({\"jupyterEvent\": \"custom.exercise_interaction\", \"data\": {\"interactionType\": 3, \"questionType\": 2, \"questionId\": \"0_ExerciseFormatTutorial\", \"learnToolsVersion\": \"0.3.4\", \"valueTowardsCompletion\": 0.0, \"failureMessage\": \"\", \"exceptionClass\": \"\", \"trace\": \"\", \"outcomeType\": 4}}, \"*\")"
      ],
      "text/plain": [
       "<IPython.core.display.Javascript object>"
      ]
     },
     "metadata": {},
     "output_type": "display_data"
    },
    {
     "data": {
      "text/markdown": [
       "<span style=\"color:#33cc99\">Solution:</span> \n",
       "```python\n",
       "color = \"blue\"\n",
       "```"
      ],
      "text/plain": [
       "Solution: \n",
       "```python\n",
       "color = \"blue\"\n",
       "```"
      ]
     },
     "metadata": {},
     "output_type": "display_data"
    }
   ],
   "source": [
    "#q0.hint()\n",
    "q0.solution()"
   ]
  },
  {
   "cell_type": "markdown",
   "id": "c4c2a2cd",
   "metadata": {
    "papermill": {
     "duration": 0.008107,
     "end_time": "2022-06-14T19:11:47.269098",
     "exception": false,
     "start_time": "2022-06-14T19:11:47.260991",
     "status": "completed"
    },
    "tags": []
   },
   "source": [
    "The upcoming questions work the same way. The only thing that will change are the question numbers. For the next question, you'll call `q1.check()`, `q1.hint()`, `q1.solution()`, for question 2, you'll call `q2.check()`, and so on."
   ]
  },
  {
   "cell_type": "markdown",
   "id": "ff448e0c",
   "metadata": {
    "papermill": {
     "duration": 0.008049,
     "end_time": "2022-06-14T19:11:47.285700",
     "exception": false,
     "start_time": "2022-06-14T19:11:47.277651",
     "status": "completed"
    },
    "tags": []
   },
   "source": [
    "<hr/>\n",
    "\n",
    "# 1.\n",
    "\n",
    "Complete the code below. In case it's helpful, here is the table of available arithmetic operations:\n",
    "\n",
    "\n",
    "\n",
    "| Operator     | Name           | Description                                            |\n",
    "|--------------|----------------|--------------------------------------------------------|\n",
    "| ``a + b``    | Addition       | Sum of ``a`` and ``b``                                 |\n",
    "| ``a - b``    | Subtraction    | Difference of ``a`` and ``b``                          |\n",
    "| ``a * b``    | Multiplication | Product of ``a`` and ``b``                             |\n",
    "| ``a / b``    | True division  | Quotient of ``a`` and ``b``                            |\n",
    "| ``a // b``   | Floor division | Quotient of ``a`` and ``b``, removing fractional parts |\n",
    "| ``a % b``    | Modulus        | Integer remainder after division of ``a`` by ``b``     |\n",
    "| ``a ** b``   | Exponentiation | ``a`` raised to the power of ``b``                     |\n",
    "| ``-a``       | Negation       | The negative of ``a``                                  |\n",
    "\n",
    "<span style=\"display:none\"></span>\n"
   ]
  },
  {
   "cell_type": "code",
   "execution_count": 6,
   "id": "208f838d",
   "metadata": {
    "execution": {
     "iopub.execute_input": "2022-06-14T19:11:47.304334Z",
     "iopub.status.busy": "2022-06-14T19:11:47.303747Z",
     "iopub.status.idle": "2022-06-14T19:11:47.313143Z",
     "shell.execute_reply": "2022-06-14T19:11:47.312021Z"
    },
    "papermill": {
     "duration": 0.021183,
     "end_time": "2022-06-14T19:11:47.315197",
     "exception": false,
     "start_time": "2022-06-14T19:11:47.294014",
     "status": "completed"
    },
    "tags": []
   },
   "outputs": [
    {
     "data": {
      "application/javascript": [
       "parent.postMessage({\"jupyterEvent\": \"custom.exercise_interaction\", \"data\": {\"outcomeType\": 1, \"valueTowardsCompletion\": 0.25, \"interactionType\": 1, \"questionType\": 1, \"questionId\": \"1_CircleArea\", \"learnToolsVersion\": \"0.3.4\", \"failureMessage\": \"\", \"exceptionClass\": \"\", \"trace\": \"\"}}, \"*\")"
      ],
      "text/plain": [
       "<IPython.core.display.Javascript object>"
      ]
     },
     "metadata": {},
     "output_type": "display_data"
    },
    {
     "data": {
      "text/markdown": [
       "<span style=\"color:#33cc33\">Correct</span>"
      ],
      "text/plain": [
       "Correct"
      ]
     },
     "metadata": {},
     "output_type": "display_data"
    }
   ],
   "source": [
    "pi = 3.14159 # approximate\n",
    "diameter = 3\n",
    "\n",
    "# Create a variable called 'radius' equal to half the diameter\n",
    "radius = diameter / 2\n",
    "\n",
    "# Create a variable called 'area', using the formula for the area of a circle: pi times the radius squared\n",
    "area = pi * (radius ** 2)\n",
    "\n",
    "# Check your answer\n",
    "q1.check()"
   ]
  },
  {
   "cell_type": "code",
   "execution_count": 7,
   "id": "49125232",
   "metadata": {
    "execution": {
     "iopub.execute_input": "2022-06-14T19:11:47.334805Z",
     "iopub.status.busy": "2022-06-14T19:11:47.334051Z",
     "iopub.status.idle": "2022-06-14T19:11:47.338440Z",
     "shell.execute_reply": "2022-06-14T19:11:47.337602Z"
    },
    "papermill": {
     "duration": 0.016433,
     "end_time": "2022-06-14T19:11:47.340505",
     "exception": false,
     "start_time": "2022-06-14T19:11:47.324072",
     "status": "completed"
    },
    "tags": []
   },
   "outputs": [],
   "source": [
    "# Uncomment and run the lines below if you need help.\n",
    "#q1.hint()\n",
    "#q1.solution()"
   ]
  },
  {
   "cell_type": "markdown",
   "id": "e99080f6",
   "metadata": {
    "papermill": {
     "duration": 0.009219,
     "end_time": "2022-06-14T19:11:47.358574",
     "exception": false,
     "start_time": "2022-06-14T19:11:47.349355",
     "status": "completed"
    },
    "tags": []
   },
   "source": [
    "<hr/>\n",
    "\n",
    "# 2.\n",
    "\n",
    "Add code to the following cell to swap variables `a` and `b` (so that `a` refers to the object previously referred to by `b` and vice versa)."
   ]
  },
  {
   "cell_type": "code",
   "execution_count": 8,
   "id": "2fddfc37",
   "metadata": {
    "execution": {
     "iopub.execute_input": "2022-06-14T19:11:47.377614Z",
     "iopub.status.busy": "2022-06-14T19:11:47.377226Z",
     "iopub.status.idle": "2022-06-14T19:11:47.386805Z",
     "shell.execute_reply": "2022-06-14T19:11:47.385876Z"
    },
    "papermill": {
     "duration": 0.021586,
     "end_time": "2022-06-14T19:11:47.388953",
     "exception": false,
     "start_time": "2022-06-14T19:11:47.367367",
     "status": "completed"
    },
    "tags": []
   },
   "outputs": [
    {
     "data": {
      "application/javascript": [
       "parent.postMessage({\"jupyterEvent\": \"custom.exercise_interaction\", \"data\": {\"outcomeType\": 1, \"valueTowardsCompletion\": 0.25, \"interactionType\": 1, \"questionType\": 2, \"questionId\": \"2_VariableSwap\", \"learnToolsVersion\": \"0.3.4\", \"failureMessage\": \"\", \"exceptionClass\": \"\", \"trace\": \"\"}}, \"*\")"
      ],
      "text/plain": [
       "<IPython.core.display.Javascript object>"
      ]
     },
     "metadata": {},
     "output_type": "display_data"
    },
    {
     "data": {
      "text/markdown": [
       "<span style=\"color:#33cc33\">Correct:</span> \n",
       "\n",
       "The most straightforward solution is to use a third variable to temporarily store one of the old values. e.g.:\n",
       "\n",
       "    tmp = a\n",
       "    a = b\n",
       "    b = tmp\n",
       "\n",
       "If you've read lots of Python code, you might have seen the following trick to swap two variables in one line:\n",
       "\n",
       "    a, b = b, a\n",
       "\n",
       "We'll demystify this bit of Python magic later when we talk about *tuples*."
      ],
      "text/plain": [
       "Correct: \n",
       "\n",
       "The most straightforward solution is to use a third variable to temporarily store one of the old values. e.g.:\n",
       "\n",
       "    tmp = a\n",
       "    a = b\n",
       "    b = tmp\n",
       "\n",
       "If you've read lots of Python code, you might have seen the following trick to swap two variables in one line:\n",
       "\n",
       "    a, b = b, a\n",
       "\n",
       "We'll demystify this bit of Python magic later when we talk about *tuples*."
      ]
     },
     "metadata": {},
     "output_type": "display_data"
    }
   ],
   "source": [
    "########### Setup code - don't touch this part ######################\n",
    "# If you're curious, these are examples of lists. We'll talk about \n",
    "# them in depth a few lessons from now. For now, just know that they're\n",
    "# yet another type of Python object, like int or float.\n",
    "a = [1, 2, 3]\n",
    "b = [3, 2, 1]\n",
    "q2.store_original_ids()\n",
    "######################################################################\n",
    "\n",
    "# Your code goes here. Swap the values to which a and b refer.\n",
    "# If you get stuck, you can always uncomment one or both of the lines in\n",
    "# the next cell for a hint, or to peek at the solution.\n",
    "temp = b\n",
    "b = a\n",
    "a = temp\n",
    "\n",
    "######################################################################\n",
    "\n",
    "# Check your answer\n",
    "q2.check()"
   ]
  },
  {
   "cell_type": "code",
   "execution_count": 9,
   "id": "275d8dab",
   "metadata": {
    "execution": {
     "iopub.execute_input": "2022-06-14T19:11:47.408889Z",
     "iopub.status.busy": "2022-06-14T19:11:47.408334Z",
     "iopub.status.idle": "2022-06-14T19:11:47.412308Z",
     "shell.execute_reply": "2022-06-14T19:11:47.411671Z"
    },
    "papermill": {
     "duration": 0.016063,
     "end_time": "2022-06-14T19:11:47.414128",
     "exception": false,
     "start_time": "2022-06-14T19:11:47.398065",
     "status": "completed"
    },
    "tags": []
   },
   "outputs": [],
   "source": [
    "#q2.hint()"
   ]
  },
  {
   "cell_type": "code",
   "execution_count": 10,
   "id": "a658d548",
   "metadata": {
    "execution": {
     "iopub.execute_input": "2022-06-14T19:11:47.433853Z",
     "iopub.status.busy": "2022-06-14T19:11:47.433299Z",
     "iopub.status.idle": "2022-06-14T19:11:47.437139Z",
     "shell.execute_reply": "2022-06-14T19:11:47.436512Z"
    },
    "papermill": {
     "duration": 0.015945,
     "end_time": "2022-06-14T19:11:47.438958",
     "exception": false,
     "start_time": "2022-06-14T19:11:47.423013",
     "status": "completed"
    },
    "tags": []
   },
   "outputs": [],
   "source": [
    "#q2.solution()"
   ]
  },
  {
   "cell_type": "markdown",
   "id": "2801fe86",
   "metadata": {
    "papermill": {
     "duration": 0.008619,
     "end_time": "2022-06-14T19:11:47.456560",
     "exception": false,
     "start_time": "2022-06-14T19:11:47.447941",
     "status": "completed"
    },
    "tags": []
   },
   "source": [
    "<hr/>\n",
    "\n",
    "# 3a.\n",
    "\n",
    "Add parentheses to the following expression so that it evaluates to 1."
   ]
  },
  {
   "cell_type": "code",
   "execution_count": 11,
   "id": "3d78e67b",
   "metadata": {
    "execution": {
     "iopub.execute_input": "2022-06-14T19:11:47.476281Z",
     "iopub.status.busy": "2022-06-14T19:11:47.475710Z",
     "iopub.status.idle": "2022-06-14T19:11:47.482033Z",
     "shell.execute_reply": "2022-06-14T19:11:47.481067Z"
    },
    "papermill": {
     "duration": 0.0184,
     "end_time": "2022-06-14T19:11:47.483899",
     "exception": false,
     "start_time": "2022-06-14T19:11:47.465499",
     "status": "completed"
    },
    "tags": []
   },
   "outputs": [
    {
     "data": {
      "text/plain": [
       "1"
      ]
     },
     "execution_count": 11,
     "metadata": {},
     "output_type": "execute_result"
    }
   ],
   "source": [
    "(5 - 3) // 2"
   ]
  },
  {
   "cell_type": "code",
   "execution_count": 12,
   "id": "2d7c201e",
   "metadata": {
    "execution": {
     "iopub.execute_input": "2022-06-14T19:11:47.504315Z",
     "iopub.status.busy": "2022-06-14T19:11:47.503757Z",
     "iopub.status.idle": "2022-06-14T19:11:47.507570Z",
     "shell.execute_reply": "2022-06-14T19:11:47.506929Z"
    },
    "papermill": {
     "duration": 0.016312,
     "end_time": "2022-06-14T19:11:47.509338",
     "exception": false,
     "start_time": "2022-06-14T19:11:47.493026",
     "status": "completed"
    },
    "tags": []
   },
   "outputs": [],
   "source": [
    "#q3.a.hint()"
   ]
  },
  {
   "cell_type": "code",
   "execution_count": 13,
   "id": "ee8309c2",
   "metadata": {
    "execution": {
     "iopub.execute_input": "2022-06-14T19:11:47.529443Z",
     "iopub.status.busy": "2022-06-14T19:11:47.529033Z",
     "iopub.status.idle": "2022-06-14T19:11:47.532738Z",
     "shell.execute_reply": "2022-06-14T19:11:47.532071Z"
    },
    "papermill": {
     "duration": 0.016062,
     "end_time": "2022-06-14T19:11:47.534492",
     "exception": false,
     "start_time": "2022-06-14T19:11:47.518430",
     "status": "completed"
    },
    "tags": []
   },
   "outputs": [],
   "source": [
    "# Check your answer (Run this code cell to receive credit!)\n",
    "#q3.a.solution()"
   ]
  },
  {
   "cell_type": "markdown",
   "id": "8b768420",
   "metadata": {
    "papermill": {
     "duration": 0.009424,
     "end_time": "2022-06-14T19:11:47.553161",
     "exception": false,
     "start_time": "2022-06-14T19:11:47.543737",
     "status": "completed"
    },
    "tags": []
   },
   "source": [
    "# 3b.  <span title=\"A bit spicy\" style=\"color: darkgreen \">🌶️</span>\n",
    "\n",
    "<small>Questions, like this one, marked a spicy pepper are a bit harder.</small>\n",
    "\n",
    "Add parentheses to the following expression so that it evaluates to 0."
   ]
  },
  {
   "cell_type": "code",
   "execution_count": 14,
   "id": "24840764",
   "metadata": {
    "execution": {
     "iopub.execute_input": "2022-06-14T19:11:47.573265Z",
     "iopub.status.busy": "2022-06-14T19:11:47.572843Z",
     "iopub.status.idle": "2022-06-14T19:11:47.578850Z",
     "shell.execute_reply": "2022-06-14T19:11:47.577829Z"
    },
    "papermill": {
     "duration": 0.018856,
     "end_time": "2022-06-14T19:11:47.581095",
     "exception": false,
     "start_time": "2022-06-14T19:11:47.562239",
     "status": "completed"
    },
    "tags": []
   },
   "outputs": [
    {
     "data": {
      "text/plain": [
       "0"
      ]
     },
     "execution_count": 14,
     "metadata": {},
     "output_type": "execute_result"
    }
   ],
   "source": [
    "(8 - 3) * (2 - (1 + 1))"
   ]
  },
  {
   "cell_type": "code",
   "execution_count": 15,
   "id": "ce25542a",
   "metadata": {
    "execution": {
     "iopub.execute_input": "2022-06-14T19:11:47.601556Z",
     "iopub.status.busy": "2022-06-14T19:11:47.601131Z",
     "iopub.status.idle": "2022-06-14T19:11:47.604570Z",
     "shell.execute_reply": "2022-06-14T19:11:47.603818Z"
    },
    "papermill": {
     "duration": 0.015958,
     "end_time": "2022-06-14T19:11:47.606390",
     "exception": false,
     "start_time": "2022-06-14T19:11:47.590432",
     "status": "completed"
    },
    "tags": []
   },
   "outputs": [],
   "source": [
    "#q3.b.hint()"
   ]
  },
  {
   "cell_type": "code",
   "execution_count": 16,
   "id": "d811ec23",
   "metadata": {
    "execution": {
     "iopub.execute_input": "2022-06-14T19:11:47.627220Z",
     "iopub.status.busy": "2022-06-14T19:11:47.626313Z",
     "iopub.status.idle": "2022-06-14T19:11:47.630316Z",
     "shell.execute_reply": "2022-06-14T19:11:47.629514Z"
    },
    "papermill": {
     "duration": 0.016528,
     "end_time": "2022-06-14T19:11:47.632322",
     "exception": false,
     "start_time": "2022-06-14T19:11:47.615794",
     "status": "completed"
    },
    "tags": []
   },
   "outputs": [],
   "source": [
    "# Check your answer (Run this code cell to receive credit!)\n",
    "#q3.b.solution()"
   ]
  },
  {
   "cell_type": "markdown",
   "id": "91ecb4c9",
   "metadata": {
    "papermill": {
     "duration": 0.009178,
     "end_time": "2022-06-14T19:11:47.650915",
     "exception": false,
     "start_time": "2022-06-14T19:11:47.641737",
     "status": "completed"
    },
    "tags": []
   },
   "source": [
    "<hr/>\n",
    "\n",
    "# 4. \n",
    "Alice, Bob and Carol have agreed to pool their Halloween candy and split it evenly among themselves.\n",
    "For the sake of their friendship, any candies left over will be smashed. For example, if they collectively\n",
    "bring home 91 candies, they'll take 30 each and smash 1.\n",
    "\n",
    "Write an arithmetic expression below to calculate how many candies they must smash for a given haul."
   ]
  },
  {
   "cell_type": "code",
   "execution_count": 17,
   "id": "80cbabd5",
   "metadata": {
    "execution": {
     "iopub.execute_input": "2022-06-14T19:11:47.671712Z",
     "iopub.status.busy": "2022-06-14T19:11:47.670987Z",
     "iopub.status.idle": "2022-06-14T19:11:47.680667Z",
     "shell.execute_reply": "2022-06-14T19:11:47.679577Z"
    },
    "papermill": {
     "duration": 0.022348,
     "end_time": "2022-06-14T19:11:47.682732",
     "exception": false,
     "start_time": "2022-06-14T19:11:47.660384",
     "status": "completed"
    },
    "tags": []
   },
   "outputs": [
    {
     "data": {
      "application/javascript": [
       "parent.postMessage({\"jupyterEvent\": \"custom.exercise_interaction\", \"data\": {\"outcomeType\": 1, \"valueTowardsCompletion\": 0.25, \"interactionType\": 1, \"questionType\": 1, \"questionId\": \"4_CandySplitting\", \"learnToolsVersion\": \"0.3.4\", \"failureMessage\": \"\", \"exceptionClass\": \"\", \"trace\": \"\"}}, \"*\")"
      ],
      "text/plain": [
       "<IPython.core.display.Javascript object>"
      ]
     },
     "metadata": {},
     "output_type": "display_data"
    },
    {
     "data": {
      "text/markdown": [
       "<span style=\"color:#33cc33\">Correct</span>"
      ],
      "text/plain": [
       "Correct"
      ]
     },
     "metadata": {},
     "output_type": "display_data"
    }
   ],
   "source": [
    "# Variables representing the number of candies collected by alice, bob, and carol\n",
    "alice_candies = 121\n",
    "bob_candies = 77\n",
    "carol_candies = 109\n",
    "\n",
    "# Your code goes here! Replace the right-hand side of this assignment with an expression\n",
    "# involving alice_candies, bob_candies, and carol_candies\n",
    "to_smash = (alice_candies + bob_candies + carol_candies) % 3\n",
    "\n",
    "# Check your answer\n",
    "q4.check()"
   ]
  },
  {
   "cell_type": "code",
   "execution_count": 18,
   "id": "13ce861c",
   "metadata": {
    "execution": {
     "iopub.execute_input": "2022-06-14T19:11:47.704065Z",
     "iopub.status.busy": "2022-06-14T19:11:47.703341Z",
     "iopub.status.idle": "2022-06-14T19:11:47.707463Z",
     "shell.execute_reply": "2022-06-14T19:11:47.706692Z"
    },
    "papermill": {
     "duration": 0.017075,
     "end_time": "2022-06-14T19:11:47.709482",
     "exception": false,
     "start_time": "2022-06-14T19:11:47.692407",
     "status": "completed"
    },
    "tags": []
   },
   "outputs": [],
   "source": [
    "#q4.hint()\n",
    "#q4.solution()"
   ]
  },
  {
   "cell_type": "markdown",
   "id": "9312161b",
   "metadata": {
    "papermill": {
     "duration": 0.00941,
     "end_time": "2022-06-14T19:11:47.728393",
     "exception": false,
     "start_time": "2022-06-14T19:11:47.718983",
     "status": "completed"
    },
    "tags": []
   },
   "source": [
    "# Keep Going\n",
    "\n",
    "Next up, you'll **[learn to write new functions and understand functions others write](https://www.kaggle.com/colinmorris/functions-and-getting-help)**. This will make you at least 10 times more productive as a Python programmer. "
   ]
  },
  {
   "cell_type": "markdown",
   "id": "4ff90dd2",
   "metadata": {
    "papermill": {
     "duration": 0.009319,
     "end_time": "2022-06-14T19:11:47.747492",
     "exception": false,
     "start_time": "2022-06-14T19:11:47.738173",
     "status": "completed"
    },
    "tags": []
   },
   "source": [
    "---\n",
    "\n",
    "\n",
    "\n",
    "\n",
    "*Have questions or comments? Visit the [course discussion forum](https://www.kaggle.com/learn/python/discussion) to chat with other learners.*"
   ]
  }
 ],
 "metadata": {
  "kernelspec": {
   "display_name": "Python 3",
   "language": "python",
   "name": "python3"
  },
  "language_info": {
   "codemirror_mode": {
    "name": "ipython",
    "version": 3
   },
   "file_extension": ".py",
   "mimetype": "text/x-python",
   "name": "python",
   "nbconvert_exporter": "python",
   "pygments_lexer": "ipython3",
   "version": "3.7.12"
  },
  "papermill": {
   "default_parameters": {},
   "duration": 11.956377,
   "end_time": "2022-06-14T19:11:48.376845",
   "environment_variables": {},
   "exception": null,
   "input_path": "__notebook__.ipynb",
   "output_path": "__notebook__.ipynb",
   "parameters": {},
   "start_time": "2022-06-14T19:11:36.420468",
   "version": "2.3.4"
  }
 },
 "nbformat": 4,
 "nbformat_minor": 5
}
